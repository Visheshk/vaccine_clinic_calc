{
 "cells": [
  {
   "cell_type": "code",
   "execution_count": 18,
   "metadata": {},
   "outputs": [],
   "source": [
    "# Code from : https://github.com/HankerZheng/Basic-Calculator-for-Queueing-Theory/blob/master/MMcQueue.py\n",
    "\n",
    "import math\n",
    "\n",
    "class MMcQueue(object):\n",
    "    def __init__(self, arrival, departure, capacity):\n",
    "        \"\"\"\n",
    "        Given the parameter of one M/M/c/c Queue, \n",
    "        initialize the queue with these parameter and calculate some parameters.\n",
    "        `_rou`:     Server Utilization\n",
    "        `_p0`:      Probability of that there is no packets in the queue\n",
    "        `_pc`:      Probability of that there is exactly `capacity` packets in the queue,\n",
    "                    that is, all the server is busy.\n",
    "        `_probSum`:  p0 + p1 + p2 + ... pc - pc\n",
    "        `_finalTerm`: 1/(c!) * (arrival / departure)^c\n",
    "        \"\"\"\n",
    "        if capacity * departure <= arrival:\n",
    "            raise ValueError(\"This Queue is unstable with the Input Parameters!!!\")\n",
    "        self._arrival = float(arrival)\n",
    "        self._departure = float(departure)\n",
    "        self._capacity = capacity\n",
    "        self._rou = self._arrival / self._departure / self._capacity\n",
    "\n",
    "        # init the parameter as if the capacity == 0\n",
    "        powerTerm = 1.0\n",
    "        factorTerm = 1.0\n",
    "        preSum = 1.0\n",
    "        # Loop through `1` to `self._capacity` to get each term and preSum\n",
    "        for i in range(1, self._capacity + 1):\n",
    "            powerTerm *= self._arrival / self._departure\n",
    "            factorTerm /= i\n",
    "            preSum += powerTerm * factorTerm\n",
    "        self._finalTerm = powerTerm * factorTerm\n",
    "        preSum -= self._finalTerm\n",
    "        self._p0 = 1.0 / (preSum + self._finalTerm / (1 - self._rou))\n",
    "        self._pc = self._finalTerm * self._p0\n",
    "        self._probSum = preSum * self._p0\n",
    "\n",
    "\n",
    "    @property\n",
    "    def arrival(self):\n",
    "        return self._arrival\n",
    "\n",
    "    @property\n",
    "    def departure(self):\n",
    "        return self._departure\n",
    "\n",
    "    @property\n",
    "    def capacity(self):\n",
    "        return self._capacity\n",
    "\n",
    "    def getPk(self, k):\n",
    "        \"\"\"\n",
    "        Return the probability when there are `k` packets in the system\n",
    "        \"\"\"\n",
    "        if k == 0:\n",
    "            return self._p0\n",
    "        elif k == self._capacity:\n",
    "            return self._pc\n",
    "        elif k < self._capacity:\n",
    "            factorTerm = 1.0 / math.factorial(k)\n",
    "            powerTerm = math.pow(self._arrival / self._departure, k)\n",
    "            return self._p0 * factorTerm * powerTerm\n",
    "        else:\n",
    "            return self._finalTerm * math.pow(self._rou, k - self._capacity) * self._p0\n",
    "\n",
    "    def getQueueProb(self):\n",
    "        \"\"\"\n",
    "        Return the probability when a packet comes, it needs to queue in the buffer.\n",
    "        That is, P(W>0) = 1 - P(N < c)\n",
    "        Also known as Erlang-C function\n",
    "        \"\"\"\n",
    "        return 1.0 - self._probSum\n",
    "\n",
    "    def getIdleProb(self):\n",
    "        \"\"\"\n",
    "        Return the probability when the sever is idle.\n",
    "        That is , P(N=0)\n",
    "        \"\"\"\n",
    "        return self._p0\n",
    "\n",
    "    def getAvgPackets(self):\n",
    "        \"\"\"\n",
    "        Return the average number of packets in the system (in service and in the queue)\n",
    "        \"\"\"\n",
    "        return self._rou / (1 - self._rou) * self.getQueueProb() + self._capacity * self._rou\n",
    "\n",
    "    def getAvgQueueTime(self):\n",
    "        \"\"\"\n",
    "        Return the average time of packets spending in the queue\n",
    "        \"\"\"\n",
    "        return self.getQueueProb() / (self._capacity * self._departure - self._arrival)\n",
    "\n",
    "    def getAvgQueuePacket_Given(self):\n",
    "        \"\"\"\n",
    "        Given there is packet in the queue,\n",
    "        return the average number of packets in the queue\n",
    "        \"\"\"\n",
    "        return self._finalTerm * self._p0 / (1.0 - self._rou) / (1.0 - self._rou)\n",
    "\n",
    "    def getAvgQueueTime_Given(self):\n",
    "        \"\"\"\n",
    "        Given a packet must wait, \n",
    "        return the average time of this packet spending in the queue\n",
    "        \"\"\"\n",
    "        if self.getQueueProb() == 0:\n",
    "            return 0\n",
    "        return self.getAvgQueuePacket_Given() / (self.getQueueProb() * self._arrival)\n",
    "\n",
    "    def getAvgResponseTime(self):\n",
    "        \"\"\"\n",
    "        Return the average time of packets spending in the system (in service and in the queue)\n",
    "        \"\"\"\n",
    "        return self.getAvgQueueTime() + 1.0 / self._departure\n",
    "\n",
    "    def getAvgPacketInSystem(self):\n",
    "        \"\"\"\n",
    "        Return the average number of packets in the system.\n",
    "        \"\"\"\n",
    "        return self.getAvgResponseTime() * self._arrival\n",
    "\n",
    "    def getAvgBusyServer(self):\n",
    "        \"\"\"\n",
    "        Return the average number of busy Server.\n",
    "        \"\"\"\n",
    "        return self.arrival / self.departure\n",
    "\n",
    "\n",
    "    def getPorbWhenQueueTimeLargerThan(self, queueTime):\n",
    "        \"\"\"\n",
    "        Return the probability when the queuing time of the packet is larger than `queueTime`\n",
    "        That is P(W > queueTime) = 1 - P(W <= queueTime)\n",
    "        \"\"\"\n",
    "        firstTerm = self._pc / (1.0 - self._rou)\n",
    "        expTerm = - self._capacity * self._departure * (1.0 - self._rou) * queueTime\n",
    "        secondTerm = math.exp(expTerm)\n",
    "        return firstTerm * secondTerm\n",
    "\n"
   ]
  },
  {
   "cell_type": "code",
   "execution_count": 31,
   "metadata": {},
   "outputs": [],
   "source": [
    "def calc_metrics(lambd, mu, c):\n",
    "    thisQueue = MMcQueue(lambd,mu,c)\n",
    "    Wq = thisQueue.getAvgQueueTime()\n",
    "    Lq = lambd*Wq\n",
    "    server_busy = thisQueue.getAvgBusyServer()/c\n",
    "    L = thisQueue.getAvgPacketInSystem()\n",
    "    W = L/lambd\n",
    "    return [L, W, Lq, Wq, server_busy]"
   ]
  },
  {
   "cell_type": "code",
   "execution_count": 33,
   "metadata": {},
   "outputs": [
    {
     "data": {
      "text/plain": [
       "[1.0454545454545454,\n",
       " 0.34848484848484845,\n",
       " 0.045454545454545414,\n",
       " 0.015151515151515138,\n",
       " 0.3333333333333333]"
      ]
     },
     "execution_count": 33,
     "metadata": {},
     "output_type": "execute_result"
    }
   ],
   "source": [
    "calc_metrics(3,3,3)"
   ]
  },
  {
   "cell_type": "code",
   "execution_count": 34,
   "metadata": {},
   "outputs": [],
   "source": [
    "import streamlit as st\n",
    "import pandas as pd\n",
    "import numpy as np"
   ]
  },
  {
   "cell_type": "code",
   "execution_count": 35,
   "metadata": {},
   "outputs": [
    {
     "name": "stderr",
     "output_type": "stream",
     "text": [
      "2021-02-05 18:04:09.116 WARNING root: \n",
      "  Warning: to view this Streamlit app on a browser, run it with the following\n",
      "  command:\n",
      "\n",
      "    streamlit run C:\\ProgramData\\Anaconda3\\lib\\site-packages\\ipykernel_launcher.py [ARGUMENTS]\n"
     ]
    },
    {
     "data": {
      "text/plain": [
       "<streamlit.delta_generator.DeltaGenerator at 0x24ced218df0>"
      ]
     },
     "execution_count": 35,
     "metadata": {},
     "output_type": "execute_result"
    }
   ],
   "source": [
    "st.title('Vaccine Clinic Scheduling & Staffing Calculator')"
   ]
  },
  {
   "cell_type": "code",
   "execution_count": null,
   "metadata": {},
   "outputs": [],
   "source": []
  }
 ],
 "metadata": {
  "kernelspec": {
   "display_name": "Python 3",
   "language": "python",
   "name": "python3"
  },
  "language_info": {
   "codemirror_mode": {
    "name": "ipython",
    "version": 3
   },
   "file_extension": ".py",
   "mimetype": "text/x-python",
   "name": "python",
   "nbconvert_exporter": "python",
   "pygments_lexer": "ipython3",
   "version": "3.8.5"
  }
 },
 "nbformat": 4,
 "nbformat_minor": 4
}
